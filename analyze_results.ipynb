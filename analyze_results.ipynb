{
 "cells": [
  {
   "cell_type": "code",
   "execution_count": 11,
   "metadata": {},
   "outputs": [],
   "source": [
    "import numpy as np\n",
    "import json\n",
    "import os"
   ]
  },
  {
   "cell_type": "code",
   "execution_count": 13,
   "metadata": {},
   "outputs": [],
   "source": [
    "path = 'saved_results/DyGFormer/wikipedia_filtered_0.5'\n",
    "folder = os.listdir(path)\n",
    "files = []\n",
    "for f in folder:\n",
    "    if 'json' in f:\n",
    "        with open(os.path.join\n",
    "                    (path, f), 'r') as file:\n",
    "                data = json.load(file)\n",
    "                files.append(data)\n"
   ]
  },
  {
   "cell_type": "code",
   "execution_count": 14,
   "metadata": {},
   "outputs": [],
   "source": [
    "# Initialize dictionaries to hold the values\n",
    "metrics = {\n",
    "    \"Validate average_precision\": [],\n",
    "    \"Validate roc_auc\": [],\n",
    "    \"New Node Validate average_precision\": [],\n",
    "    \"New Node Validate roc_auc\": [],\n",
    "    \"Test average_precision\": [],\n",
    "    \"Test roc_auc\": [],\n",
    "    \"New Node Test average_precision\": [],\n",
    "    \"New Node Test roc_auc\": []\n",
    "}"
   ]
  },
  {
   "cell_type": "code",
   "execution_count": 15,
   "metadata": {},
   "outputs": [],
   "source": [
    "# Populate the metrics dictionary with values from the JSON files\n",
    "for data in files:\n",
    "    metrics[\"Validate average_precision\"].append(float(data[\"validate metrics\"][\"average_precision\"]))\n",
    "    metrics[\"Validate roc_auc\"].append(float(data[\"validate metrics\"][\"roc_auc\"]))\n",
    "    metrics[\"New Node Validate average_precision\"].append(float(data[\"new node validate metrics\"][\"average_precision\"]))\n",
    "    metrics[\"New Node Validate roc_auc\"].append(float(data[\"new node validate metrics\"][\"roc_auc\"]))\n",
    "    metrics[\"Test average_precision\"].append(float(data[\"test metrics\"][\"average_precision\"]))\n",
    "    metrics[\"Test roc_auc\"].append(float(data[\"test metrics\"][\"roc_auc\"]))\n",
    "    metrics[\"New Node Test average_precision\"].append(float(data[\"new node test metrics\"][\"average_precision\"]))\n",
    "    metrics[\"New Node Test roc_auc\"].append(float(data[\"new node test metrics\"][\"roc_auc\"]))\n"
   ]
  },
  {
   "cell_type": "code",
   "execution_count": 16,
   "metadata": {},
   "outputs": [],
   "source": [
    "# Calculate mean and standard deviation for each metric\n",
    "results = {}\n",
    "for metric, values in metrics.items():\n",
    "    mean_value = np.mean(values)\n",
    "    std_value = np.std(values)\n",
    "    results[metric] = f\"{mean_value:.4f} +- {std_value:.4f}\""
   ]
  },
  {
   "cell_type": "code",
   "execution_count": 17,
   "metadata": {},
   "outputs": [
    {
     "name": "stdout",
     "output_type": "stream",
     "text": [
      "Results have been saved to saved_results/DyGFormer/wikipedia/DyGFormer_filtered_0.5.json\n"
     ]
    }
   ],
   "source": [
    "# Write the results to a JSON file\n",
    "output_path = 'saved_results/DyGFormer/wikipedia/DyGFormer_filtered_0.5.json'\n",
    "with open(output_path, 'w') as outfile:\n",
    "    json.dump(results, outfile, indent=4)\n",
    "\n",
    "print(f\"Results have been saved to {output_path}\")"
   ]
  }
 ],
 "metadata": {
  "kernelspec": {
   "display_name": "gnns",
   "language": "python",
   "name": "python3"
  },
  "language_info": {
   "codemirror_mode": {
    "name": "ipython",
    "version": 3
   },
   "file_extension": ".py",
   "mimetype": "text/x-python",
   "name": "python",
   "nbconvert_exporter": "python",
   "pygments_lexer": "ipython3",
   "version": "3.9.18"
  }
 },
 "nbformat": 4,
 "nbformat_minor": 2
}
