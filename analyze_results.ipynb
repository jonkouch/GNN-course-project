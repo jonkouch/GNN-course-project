{
 "cells": [
  {
   "cell_type": "code",
   "execution_count": 1,
   "metadata": {},
   "outputs": [],
   "source": [
    "import numpy as np\n",
    "import json\n",
    "import os\n",
    "import matplotlib.pyplot as plt"
   ]
  },
  {
   "cell_type": "code",
   "execution_count": 75,
   "metadata": {},
   "outputs": [],
   "source": [
    "# DyGFormer\n",
    "# GraphMixer\n",
    "\n",
    "path = 'saved_results/GraphMixer/CanParl_test_laser_4'\n",
    "output_path = 'saved_results/GraphMixer/CanParl/GraphMixer_test_laser_4.json'\n",
    "folder = os.listdir(path)\n",
    "files = []\n",
    "for f in folder:\n",
    "    if '_.json' in f:\n",
    "        with open(os.path.join\n",
    "                    (path, f), 'r') as file:\n",
    "                data = json.load(file)\n",
    "                files.append(data)\n"
   ]
  },
  {
   "cell_type": "code",
   "execution_count": 76,
   "metadata": {},
   "outputs": [],
   "source": [
    "# Initialize dictionaries to hold the values\n",
    "metrics = {\n",
    "    \"Validate average_precision\": [],\n",
    "    \"Validate roc_auc\": [],\n",
    "    \"New Node Validate average_precision\": [],\n",
    "    \"New Node Validate roc_auc\": [],\n",
    "    \"Test average_precision\": [],\n",
    "    \"Test roc_auc\": [],\n",
    "    \"New Node Test average_precision\": [],\n",
    "    \"New Node Test roc_auc\": []\n",
    "}"
   ]
  },
  {
   "cell_type": "code",
   "execution_count": 78,
   "metadata": {},
   "outputs": [],
   "source": [
    "# Populate the metrics dictionary with values from the JSON files\n",
    "for data in files:\n",
    "    metrics[\"Validate average_precision\"].append(float(data[\"validate metrics\"][\"average_precision\"]))\n",
    "    metrics[\"Validate roc_auc\"].append(float(data[\"validate metrics\"][\"roc_auc\"]))\n",
    "    metrics[\"New Node Validate average_precision\"].append(float(data[\"new node validate metrics\"][\"average_precision\"]))\n",
    "    metrics[\"New Node Validate roc_auc\"].append(float(data[\"new node validate metrics\"][\"roc_auc\"]))\n",
    "    metrics[\"Test average_precision\"].append(float(data[\"test metrics\"][\"average_precision\"]))\n",
    "    metrics[\"Test roc_auc\"].append(float(data[\"test metrics\"][\"roc_auc\"]))\n",
    "    metrics[\"New Node Test average_precision\"].append(float(data[\"new node test metrics\"][\"average_precision\"]))\n",
    "    metrics[\"New Node Test roc_auc\"].append(float(data[\"new node test metrics\"][\"roc_auc\"]))\n"
   ]
  },
  {
   "cell_type": "code",
   "execution_count": null,
   "metadata": {},
   "outputs": [],
   "source": [
    "# Calculate mean and standard deviation for each metric\n",
    "results = {}\n",
    "for metric, values in metrics.items():\n",
    "    mean_value = np.mean(values)\n",
    "    std_value = np.std(values)\n",
    "    results[metric] = f\"{mean_value:.4f} +- {std_value:.4f}\""
   ]
  },
  {
   "cell_type": "code",
   "execution_count": 74,
   "metadata": {},
   "outputs": [
    {
     "name": "stdout",
     "output_type": "stream",
     "text": [
      "Results have been saved to saved_results/DyGFormer/CanParl/DyGFormer_test_laser_4.json\n"
     ]
    }
   ],
   "source": [
    "# Write the results to a JSON file\n",
    "with open(output_path, 'w') as outfile:\n",
    "    json.dump(results, outfile, indent=4)\n",
    "\n",
    "print(f\"Results have been saved to {output_path}\")"
   ]
  },
  {
   "cell_type": "code",
   "execution_count": 9,
   "metadata": {},
   "outputs": [],
   "source": [
    "import numpy as np\n",
    "import os\n",
    "import matplotlib.pyplot as plt\n",
    "\n",
    "data_path = './plots'\n",
    "save_path_acc = './plots/accs.jpg'\n",
    "save_path_loss = './plots/losses.jpg'\n",
    "\n",
    "folder = os.listdir(data_path)\n",
    "\n",
    "# Create lists to store the data for all accuracy and loss files\n",
    "accs_list = []\n",
    "losses_list = []\n",
    "acc_labels = []\n",
    "loss_labels = []\n",
    "\n",
    "for file in folder:\n",
    "    if 'jpg' in file or 'test_laser' in file:\n",
    "        continue\n",
    "    file_path = os.path.join(data_path, file)\n",
    "    if 'accs' in file:\n",
    "        accs = np.load(file_path)\n",
    "        accs_list.append(accs)\n",
    "\n",
    "        if 'gating' in file:\n",
    "            acc_labels.append('gating')\n",
    "        elif 'test_laser' in file:\n",
    "            acc_labels.append('test laser')\n",
    "        elif 'train_laser' in file:\n",
    "            acc_labels.append('train laser')\n",
    "        else:\n",
    "            acc_labels.append('clean')\n",
    "\n",
    "    elif 'losses' in file:\n",
    "        losses = np.load(file_path)\n",
    "        losses_list.append(losses)\n",
    "    \n",
    "        if 'gating' in file:\n",
    "            loss_labels.append('gating')\n",
    "        elif 'test_laser' in file:\n",
    "            loss_labels.append('test laser')\n",
    "        elif 'train_laser' in file:\n",
    "            loss_labels.append('train laser')\n",
    "        else:\n",
    "            loss_labels.append('clean')\n",
    "\n",
    "\n",
    "\n",
    "# Plot all accuracy files together\n",
    "plt.figure()\n",
    "for i, accs in enumerate(accs_list):\n",
    "    \n",
    "    plt.plot(accs, label=f'Acc {acc_labels[i]}')  # Add a label for each plot\n",
    "plt.title('Accuracy over epochs')\n",
    "plt.xlabel('Epoch')\n",
    "plt.ylabel('Accuracy')\n",
    "plt.legend()  # Show legend\n",
    "plt.savefig(save_path_acc)\n",
    "plt.close()\n",
    "\n",
    "# Plot all loss files together\n",
    "plt.figure()\n",
    "for i, losses in enumerate(losses_list):\n",
    "    plt.plot(losses, label=f'Loss {loss_labels[i]}')  # Add a label for each plot\n",
    "plt.title('Loss over Number of Steps')\n",
    "plt.xlabel('Step')\n",
    "plt.ylabel('Loss')\n",
    "plt.legend()  # Show legend\n",
    "plt.savefig(save_path_loss)\n",
    "plt.close()"
   ]
  }
 ],
 "metadata": {
  "kernelspec": {
   "display_name": "gnns",
   "language": "python",
   "name": "python3"
  },
  "language_info": {
   "codemirror_mode": {
    "name": "ipython",
    "version": 3
   },
   "file_extension": ".py",
   "mimetype": "text/x-python",
   "name": "python",
   "nbconvert_exporter": "python",
   "pygments_lexer": "ipython3",
   "version": "3.9.18"
  }
 },
 "nbformat": 4,
 "nbformat_minor": 2
}
